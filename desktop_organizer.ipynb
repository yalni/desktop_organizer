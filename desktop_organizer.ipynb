{
 "cells": [
  {
   "cell_type": "code",
   "execution_count": 2,
   "id": "f0a32670-8ad4-417c-94d6-ce63c55e436c",
   "metadata": {},
   "outputs": [],
   "source": []
  },
  {
   "cell_type": "code",
   "execution_count": 4,
   "id": "1ff9cd9b-cb75-46e9-8e86-6c2b6c4a7f69",
   "metadata": {},
   "outputs": [
    {
     "data": {
      "text/plain": [
       "'C:\\\\Users\\\\DELL/Desktop'"
      ]
     },
     "execution_count": 4,
     "metadata": {},
     "output_type": "execute_result"
    }
   ],
   "source": [
    "desktop_path = os.path.expanduser(\"~/Desktop\")\n",
    "desktop_path"
   ]
  },
  {
   "cell_type": "code",
   "execution_count": 5,
   "id": "9c4d771d-2da7-4c51-a167-c29514bb6752",
   "metadata": {},
   "outputs": [
    {
     "data": {
      "text/plain": [
       "['AB cover.JPG',\n",
       " 'Adobe Premiere Pro Auto-Save',\n",
       " 'App.js',\n",
       " 'Apps',\n",
       " 'backend',\n",
       " 'Bag_Web',\n",
       " 'blind_stick',\n",
       " 'CONTENTS',\n",
       " 'Copy of Copy of video1.prproj',\n",
       " 'Copy of video1.prproj',\n",
       " 'curious - Chrome.lnk',\n",
       " 'desktop.ini',\n",
       " 'fish',\n",
       " 'Fish_feeder',\n",
       " 'folder1',\n",
       " 'Food Supply Chain -Group 2 final.pdf',\n",
       " 'Food Supply Chain -Group 2 final.pptx',\n",
       " 'Harí - Chrome.lnk',\n",
       " 'Helix - Chrome.lnk',\n",
       " 'include.docx',\n",
       " 'Inkscape.lnk',\n",
       " 'Jenu',\n",
       " \"let's  do  it\",\n",
       " 'maze.png',\n",
       " 'New folder',\n",
       " 'New Microsoft Word Document.docx',\n",
       " 'Pride SATELLITE - Demo.pptx',\n",
       " 'Pride SATELLITE.pptx',\n",
       " 'Protfolio.jsx',\n",
       " 'Python.docx',\n",
       " 'selfbalancing',\n",
       " 'The-Element-Ken-Robinson-Ph.D_ (2).pdf',\n",
       " 'video1.prproj',\n",
       " 'Visual Studio Code.lnk',\n",
       " 'Webots.lnk',\n",
       " 'whitehat - Chrome.lnk',\n",
       " '{.txt']"
      ]
     },
     "execution_count": 5,
     "metadata": {},
     "output_type": "execute_result"
    }
   ],
   "source": [
    "os.listdir(desktop_path)"
   ]
  },
  {
   "cell_type": "code",
   "execution_count": 6,
   "id": "4bd7adf4-ac11-4762-ab1b-7f349c6a3b13",
   "metadata": {},
   "outputs": [
    {
     "data": {
      "text/plain": [
       "'C:\\\\Users\\\\DELL/Desktop\\\\Python.docx'"
      ]
     },
     "execution_count": 6,
     "metadata": {},
     "output_type": "execute_result"
    }
   ],
   "source": [
    "os.path.join(desktop_path,'Python.docx')"
   ]
  },
  {
   "cell_type": "code",
   "execution_count": 17,
   "id": "5f7e0a8a-d8b1-4216-8d55-dfef24c9dc54",
   "metadata": {},
   "outputs": [],
   "source": [
    "import os\n",
    "import shutil\n",
    "\n",
    "#Define Desktop Path\n",
    "\n",
    "desktop_path = os.path.expanduser(\"~/Desktop\")\n",
    "desktop_path\n",
    "\n",
    "#creating dictionary for storing file path\n",
    "\n",
    "files_by_extension = {}\n",
    "\n",
    "#loop through all files in desktop\n",
    "\n",
    "for filename in os.listdir(desktop_path):\n",
    "    file_path = os.path.join(desktop_path, filename)\n",
    "\n",
    "#check if its a file\n",
    "\n",
    "    if os.path.isfile(file_path):\n",
    "\n",
    "    #get the file extention\n",
    "        file_extension = os.path.splitext(filename)[1]\n",
    "\n",
    "    #add file extension & file path to the dictionary\n",
    "\n",
    "        if file_extension not in files_by_extension:\n",
    "            files_by_extension[file_extension]=[]\n",
    "\n",
    "        files_by_extension[file_extension].append(file_path)\n",
    "\n",
    "#create a folder for each file extension & move files\n",
    "\n",
    "for file_extension, file_path in files_by_extension.items():\n",
    "    folder_name = f\"{file_extension[1:].upper()} Files\"\n",
    "    folder_path=os.path.join(desktop_path, folder_name)\n",
    "\n",
    "\n",
    "    #create the folder if it does exist\n",
    "    if not os.path.exists(folder_path):\n",
    "        os.makedirs(folder_path)\n",
    "\n",
    "    #moving the files to respective folders\n",
    "        for file in file_path:\n",
    "            shutil.move(file, folder_path)\n",
    "\n",
    "\n",
    "    \n",
    "    "
   ]
  },
  {
   "cell_type": "code",
   "execution_count": null,
   "id": "f4058ecb-81ee-4458-b08a-ab43f80e39af",
   "metadata": {},
   "outputs": [],
   "source": []
  },
  {
   "cell_type": "code",
   "execution_count": null,
   "id": "c4d0dbbb-36f6-40bd-b699-687adc70ba2a",
   "metadata": {},
   "outputs": [],
   "source": []
  },
  {
   "cell_type": "code",
   "execution_count": null,
   "id": "72d1ebbd-c812-4954-8080-ef2e67747c55",
   "metadata": {},
   "outputs": [],
   "source": []
  }
 ],
 "metadata": {
  "kernelspec": {
   "display_name": "Python 3 (ipykernel)",
   "language": "python",
   "name": "python3"
  },
  "language_info": {
   "codemirror_mode": {
    "name": "ipython",
    "version": 3
   },
   "file_extension": ".py",
   "mimetype": "text/x-python",
   "name": "python",
   "nbconvert_exporter": "python",
   "pygments_lexer": "ipython3",
   "version": "3.10.6"
  }
 },
 "nbformat": 4,
 "nbformat_minor": 5
}
